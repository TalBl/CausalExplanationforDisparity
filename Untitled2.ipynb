{
 "cells": [
  {
   "cell_type": "code",
   "execution_count": 1,
   "id": "7fadb649",
   "metadata": {},
   "outputs": [],
   "source": [
    "import pandas as pd\n",
    "import numpy as np"
   ]
  },
  {
   "cell_type": "code",
   "execution_count": 39,
   "id": "55fe2dc1",
   "metadata": {},
   "outputs": [],
   "source": [
    "df = pd.read_csv(\"outputs/so/clean_data.csv\")"
   ]
  },
  {
   "cell_type": "code",
   "execution_count": 43,
   "id": "ba1eeb2e",
   "metadata": {},
   "outputs": [
    {
     "data": {
      "text/plain": [
       "106542.40190802349"
      ]
     },
     "execution_count": 43,
     "metadata": {},
     "output_type": "execute_result"
    }
   ],
   "source": [
    "np.mean(df.loc[df['group1']==1]['ConvertedSalary'])"
   ]
  },
  {
   "cell_type": "code",
   "execution_count": 44,
   "id": "02624dd7",
   "metadata": {},
   "outputs": [
    {
     "data": {
      "text/plain": [
       "96609.91158105357"
      ]
     },
     "execution_count": 44,
     "metadata": {},
     "output_type": "execute_result"
    }
   ],
   "source": [
    "np.mean(df.loc[df['group2']==1]['ConvertedSalary'])"
   ]
  },
  {
   "cell_type": "code",
   "execution_count": 46,
   "id": "42cc2c42",
   "metadata": {},
   "outputs": [
    {
     "data": {
      "text/plain": [
       "(4088, 23)"
      ]
     },
     "execution_count": 46,
     "metadata": {},
     "output_type": "execute_result"
    }
   ],
   "source": [
    "df.loc[df['group1']==1].shape"
   ]
  },
  {
   "cell_type": "code",
   "execution_count": 47,
   "id": "a74d7d1a",
   "metadata": {},
   "outputs": [
    {
     "data": {
      "text/plain": [
       "(28987, 23)"
      ]
     },
     "execution_count": 47,
     "metadata": {},
     "output_type": "execute_result"
    }
   ],
   "source": [
    "df.loc[df['group2']==1].shape"
   ]
  },
  {
   "cell_type": "code",
   "execution_count": 45,
   "id": "59c7a43f",
   "metadata": {},
   "outputs": [
    {
     "data": {
      "text/plain": [
       "(47702, 23)"
      ]
     },
     "execution_count": 45,
     "metadata": {},
     "output_type": "execute_result"
    }
   ],
   "source": [
    "df.shape"
   ]
  },
  {
   "cell_type": "code",
   "execution_count": null,
   "id": "b95f86c6",
   "metadata": {},
   "outputs": [],
   "source": []
  }
 ],
 "metadata": {
  "kernelspec": {
   "display_name": "Python 3 (ipykernel)",
   "language": "python",
   "name": "python3"
  },
  "language_info": {
   "codemirror_mode": {
    "name": "ipython",
    "version": 3
   },
   "file_extension": ".py",
   "mimetype": "text/x-python",
   "name": "python",
   "nbconvert_exporter": "python",
   "pygments_lexer": "ipython3",
   "version": "3.9.5"
  }
 },
 "nbformat": 4,
 "nbformat_minor": 5
}
