{
 "cells": [
  {
   "cell_type": "code",
   "execution_count": 1,
   "id": "78dbab5d",
   "metadata": {},
   "outputs": [],
   "source": [
    "import pandas as pd\n",
    "import numpy as np"
   ]
  },
  {
   "cell_type": "code",
   "execution_count": 2,
   "id": "d7001eaa",
   "metadata": {},
   "outputs": [],
   "source": [
    "df = pd.read_csv(\"outputs/so/clean_data.csv\")"
   ]
  },
  {
   "cell_type": "code",
   "execution_count": 6,
   "id": "fbae9922",
   "metadata": {},
   "outputs": [
    {
     "data": {
      "image/png": "[encoded data removed]",
      "text/latex": [
       "$\\displaystyle 0.0158323178414346$"
      ],
      "text/plain": [
       "0.0158323178414346"
      ]
     },
     "execution_count": 6,
     "metadata": {},
     "output_type": "execute_result"
    }
   ],
   "source": [
    "from Utils import choose_lamda\n",
    "choose_lamda([df[\"ConvertedSalary\"]]) * 31664.6356828692"
   ]
  },
  {
   "cell_type": "code",
   "execution_count": 9,
   "id": "341a594a",
   "metadata": {},
   "outputs": [],
   "source": [
    "# {'Gender=Male', 'Age=25 - 34 years old', 'RaceEthnicity_WhiteorofEuropeandescent=1'}\n",
    "population = df.loc[(df['Gender']==\"Male\") & (df['Age']==\"25 - 34 years old\") & df['RaceEthnicity_WhiteorofEuropeandescent']==1]\n",
    "belong_groups = population.loc[(population['group1'] == 1) | (population['group2'] == 1)]"
   ]
  },
  {
   "cell_type": "code",
   "execution_count": 10,
   "id": "1457ea26",
   "metadata": {},
   "outputs": [
    {
     "data": {
      "image/png": "[encoded data removed]",
      "text/latex": [
       "$\\displaystyle 9808$"
      ],
      "text/plain": [
       "9808"
      ]
     },
     "execution_count": 10,
     "metadata": {},
     "output_type": "execute_result"
    }
   ],
   "source": [
    "belong_groups.shape[0]"
   ]
  },
  {
   "cell_type": "code",
   "execution_count": 100,
   "id": "dc7e6fe5",
   "metadata": {},
   "outputs": [
    {
     "data": {
      "text/plain": [
       "(9220, 17)"
      ]
     },
     "execution_count": 100,
     "metadata": {},
     "output_type": "execute_result"
    }
   ],
   "source": [
    "df.loc[df['group1']==1].shape"
   ]
  },
  {
   "cell_type": "code",
   "execution_count": 101,
   "id": "d5710b5d",
   "metadata": {},
   "outputs": [
    {
     "data": {
      "text/plain": [
       "(11023, 17)"
      ]
     },
     "execution_count": 101,
     "metadata": {},
     "output_type": "execute_result"
    }
   ],
   "source": [
    "df.loc[df['group2']==1].shape"
   ]
  },
  {
   "cell_type": "code",
   "execution_count": 102,
   "id": "01e85a3d",
   "metadata": {},
   "outputs": [
    {
     "data": {
      "text/plain": [
       "0.37581344902386116"
      ]
     },
     "execution_count": 102,
     "metadata": {},
     "output_type": "execute_result"
    }
   ],
   "source": [
    "np.mean(df.loc[df['group1']==1]['FeltNervous'])"
   ]
  },
  {
   "cell_type": "code",
   "execution_count": 103,
   "id": "75913729",
   "metadata": {},
   "outputs": [
    {
     "data": {
      "text/plain": [
       "0.4510568810668602"
      ]
     },
     "execution_count": 103,
     "metadata": {},
     "output_type": "execute_result"
    }
   ],
   "source": [
    "np.mean(df.loc[df['group2']==1]['FeltNervous'])"
   ]
  },
  {
   "cell_type": "code",
   "execution_count": 104,
   "id": "d8760eaf",
   "metadata": {},
   "outputs": [
    {
     "data": {
      "text/plain": [
       "20243"
      ]
     },
     "execution_count": 104,
     "metadata": {},
     "output_type": "execute_result"
    }
   ],
   "source": [
    "df.shape[0]"
   ]
  },
  {
   "cell_type": "code",
   "execution_count": 7,
   "id": "8a44d393",
   "metadata": {},
   "outputs": [
    {
     "data": {
      "text/plain": [
       "(3637, 16)"
      ]
     },
     "execution_count": 7,
     "metadata": {},
     "output_type": "execute_result"
    }
   ],
   "source": [
    "df.loc[(df['group1']==1) & (df['FeltNervous'].isin([1,2]))].shape"
   ]
  },
  {
   "cell_type": "code",
   "execution_count": 7,
   "id": "a69425c4",
   "metadata": {},
   "outputs": [
    {
     "data": {
      "image/png": "[encoded data removed]",
      "text/latex": [
       "$\\displaystyle 0.0032185$"
      ],
      "text/plain": [
       "0.0032184999999999996"
      ]
     },
     "execution_count": 7,
     "metadata": {},
     "output_type": "execute_result"
    }
   ],
   "source": [
    "0.205*0.0157"
   ]
  },
  {
   "cell_type": "code",
   "execution_count": null,
   "id": "8a6c49e7",
   "metadata": {},
   "outputs": [],
   "source": []
  },
  {
   "cell_type": "code",
   "execution_count": 8,
   "id": "01eadcb8",
   "metadata": {},
   "outputs": [
    {
     "name": "stderr",
     "output_type": "stream",
     "text": [
      "C:\\Users\\talbl\\AppData\\Local\\Temp\\ipykernel_19140\\3088641567.py:1: DtypeWarning: Columns (13,36) have mixed types. Specify dtype option on import or set low_memory=False.\n",
      "  df = pd.read_csv(\"outputs/acs/clean_data.csv\")\n"
     ]
    }
   ],
   "source": [
    "df = pd.read_csv(\"outputs/acs/clean_data.csv\")"
   ]
  },
  {
   "cell_type": "code",
   "execution_count": 9,
   "id": "4e2c5998",
   "metadata": {},
   "outputs": [
    {
     "data": {
      "text/plain": [
       "(99790, 45)"
      ]
     },
     "execution_count": 9,
     "metadata": {},
     "output_type": "execute_result"
    }
   ],
   "source": [
    "df.loc[df['group1']==1].shape"
   ]
  },
  {
   "cell_type": "code",
   "execution_count": 10,
   "id": "8d926f8d",
   "metadata": {},
   "outputs": [
    {
     "data": {
      "text/plain": [
       "(1420652, 45)"
      ]
     },
     "execution_count": 10,
     "metadata": {},
     "output_type": "execute_result"
    }
   ],
   "source": [
    "df.loc[df['group2']==1].shape"
   ]
  },
  {
   "cell_type": "code",
   "execution_count": 11,
   "id": "daf2f001",
   "metadata": {},
   "outputs": [
    {
     "data": {
      "text/plain": [
       "0.7861408958813508"
      ]
     },
     "execution_count": 11,
     "metadata": {},
     "output_type": "execute_result"
    }
   ],
   "source": [
    "np.mean(df.loc[df['group1']==1]['Health insurance coverage recode'])"
   ]
  },
  {
   "cell_type": "code",
   "execution_count": 12,
   "id": "f85c579d",
   "metadata": {},
   "outputs": [
    {
     "data": {
      "text/plain": [
       "0.9158689108944343"
      ]
     },
     "execution_count": 12,
     "metadata": {},
     "output_type": "execute_result"
    }
   ],
   "source": [
    "np.mean(df.loc[df['group2']==1]['Health insurance coverage recode'])"
   ]
  },
  {
   "cell_type": "code",
   "execution_count": null,
   "id": "8e2b11f9",
   "metadata": {},
   "outputs": [],
   "source": []
  }
 ],
 "metadata": {
  "kernelspec": {
   "display_name": "Python 3 (ipykernel)",
   "language": "python",
   "name": "python3"
  },
  "language_info": {
   "codemirror_mode": {
    "name": "ipython",
    "version": 3
   },
   "file_extension": ".py",
   "mimetype": "text/x-python",
   "name": "python",
   "nbconvert_exporter": "python",
   "pygments_lexer": "ipython3",
   "version": "3.9.5"
  }
 },
 "nbformat": 4,
 "nbformat_minor": 5
}
